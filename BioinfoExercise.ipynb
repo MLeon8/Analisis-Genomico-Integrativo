{
  "nbformat": 4,
  "nbformat_minor": 0,
  "metadata": {
    "colab": {
      "provenance": []
    },
    "kernelspec": {
      "name": "python3",
      "display_name": "Python 3"
    },
    "language_info": {
      "name": "python"
    }
  },
  "cells": [
    {
      "cell_type": "code",
      "execution_count": 1,
      "metadata": {
        "id": "LNDMNVF0h_4K",
        "colab": {
          "base_uri": "https://localhost:8080/"
        },
        "outputId": "62ffb9e6-3a55-4973-e781-ed71d175b898"
      },
      "outputs": [
        {
          "output_type": "stream",
          "name": "stdout",
          "text": [
            "Collecting biopython\n",
            "  Downloading biopython-1.85-cp311-cp311-manylinux_2_17_x86_64.manylinux2014_x86_64.whl.metadata (13 kB)\n",
            "Requirement already satisfied: numpy in /usr/local/lib/python3.11/dist-packages (from biopython) (2.0.2)\n",
            "Downloading biopython-1.85-cp311-cp311-manylinux_2_17_x86_64.manylinux2014_x86_64.whl (3.3 MB)\n",
            "\u001b[2K   \u001b[90m━━━━━━━━━━━━━━━━━━━━━━━━━━━━━━━━━━━━━━━━\u001b[0m \u001b[32m3.3/3.3 MB\u001b[0m \u001b[31m18.1 MB/s\u001b[0m eta \u001b[36m0:00:00\u001b[0m\n",
            "\u001b[?25hInstalling collected packages: biopython\n",
            "Successfully installed biopython-1.85\n"
          ]
        }
      ],
      "source": [
        "#Instala Biopython (solo se hace la primera vez)\n",
        "!pip install biopython"
      ]
    },
    {
      "cell_type": "code",
      "source": [
        "from google.colab import files\n",
        "uploaded = files.upload()   #subir dos archivos, primero el gen, luego el mRNA\n",
        "\n",
        "def read_fasta(filename):\n",
        "    with open(filename, \"r\") as handle:\n",
        "        return str(next(SeqIO.parse(handle, \"fasta\")).seq)\n",
        "\n",
        "genomic_filename = list(uploaded.keys())[0]\n",
        "mrna_filename = list(uploaded.keys())[1]"
      ],
      "metadata": {
        "id": "JNTrFyMKjKlB"
      },
      "execution_count": null,
      "outputs": []
    },
    {
      "cell_type": "code",
      "source": [
        "from Bio import SeqIO, pairwise2\n",
        "from Bio.pairwise2 import format_alignment\n",
        "\n",
        "genomic_seq = read_fasta(genomic_filename)\n",
        "mrna_seq = read_fasta(mrna_filename).replace(\"U\", \"T\")  # Convert mRNA to DNA for alignment\n",
        "\n",
        "#Alinea las secuencias con parámetros standard\n",
        "alignments = pairwise2.align.globalms(genomic_seq, mrna_seq, 2, -1, -5, -0.5)\n",
        "\n",
        "#Muestra el alineamiento\n",
        "print(format_alignment(*alignments[0]))\n"
      ],
      "metadata": {
        "id": "QR7UBdPyjJBv"
      },
      "execution_count": null,
      "outputs": []
    },
    {
      "cell_type": "code",
      "source": [
        "from Bio.Seq import Seq\n",
        "\n",
        "start_index = 0\n",
        "while start_index != -1:\n",
        "    start_index = Seq(mrna_seq).transcribe().find(\"AUG\",start_index+3)\n",
        "    print(start_index)\n",
        "    if start_index != -1:\n",
        "        coding_region = mrna_seq[start_index:]\n",
        "        protein_seq = Seq(coding_region).translate(to_stop=True)\n",
        "        print(f'Translation starts at position {start_index}')\n",
        "        print(f'Protein length: {len(protein_seq)}')\n",
        "        print(f'Protein: {protein_seq}')\n"
      ],
      "metadata": {
        "id": "zEUQOVdNn0En"
      },
      "execution_count": null,
      "outputs": []
    },
    {
      "cell_type": "code",
      "source": [
        "print(mrna_seq)\n",
        "\n",
        "complement = Seq(mrna_seq).complement()  #hebra complementaria 5'-3' (util para mirar la complementareidad)\n",
        "print(complement)\n",
        "\n",
        "reverse_complement = Seq(mrna_seq).reverse_complement()   #hebra complementaria 3'-5'\n",
        "print(reverse_complement)\n"
      ],
      "metadata": {
        "id": "i1MJF80QO1kc"
      },
      "execution_count": null,
      "outputs": []
    },
    {
      "cell_type": "code",
      "source": [
        "uploaded = files.upload()\n",
        "\n",
        "mrna_seq2 = list(uploaded.keys())[0]"
      ],
      "metadata": {
        "id": "3WLr0jkJTgwj"
      },
      "execution_count": null,
      "outputs": []
    },
    {
      "cell_type": "code",
      "source": [
        "alignments = pairwise2.align.localms(mrna_seq, Seq(mrna_seq2).reverse_complement(), 2, -1, -5, -0.5)\n",
        "\n",
        "if alignments:\n",
        "    print(\"Best complementary region:\")\n",
        "    print(format_alignment(*alignments[0]))\n",
        "else:\n",
        "    print(\"No significant complementary region found.\")"
      ],
      "metadata": {
        "id": "UE1h0JeeTnwL"
      },
      "execution_count": null,
      "outputs": []
    }
  ]
}